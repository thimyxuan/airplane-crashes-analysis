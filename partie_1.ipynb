{
 "cells": [
  {
   "cell_type": "markdown",
   "metadata": {},
   "source": [
    "# Partie 1 : Lecture et nettoyage des données"
   ]
  },
  {
   "cell_type": "markdown",
   "metadata": {},
   "source": [
    "## Import librairies"
   ]
  },
  {
   "cell_type": "code",
   "execution_count": 71,
   "metadata": {},
   "outputs": [],
   "source": [
    "import pandas as pd\n",
    "import numpy as np\n",
    "import matplotlib.pyplot as plt\n",
    "import seaborn as sns\n",
    "import warnings\n",
    "warnings.filterwarnings('ignore', category=DeprecationWarning)"
   ]
  },
  {
   "cell_type": "markdown",
   "metadata": {},
   "source": [
    "## Lecture des données"
   ]
  },
  {
   "cell_type": "code",
   "execution_count": 72,
   "metadata": {},
   "outputs": [
    {
     "data": {
      "text/plain": [
       "(4998, 16)"
      ]
     },
     "execution_count": 72,
     "metadata": {},
     "output_type": "execute_result"
    }
   ],
   "source": [
    "dataset = pd.read_csv('./src/Airplane_Crashes_and_Fatalities.csv', encoding='utf-8')\n",
    "dataset.shape"
   ]
  },
  {
   "cell_type": "code",
   "execution_count": 73,
   "metadata": {},
   "outputs": [
    {
     "data": {
      "text/html": [
       "<div>\n",
       "<style scoped>\n",
       "    .dataframe tbody tr th:only-of-type {\n",
       "        vertical-align: middle;\n",
       "    }\n",
       "\n",
       "    .dataframe tbody tr th {\n",
       "        vertical-align: top;\n",
       "    }\n",
       "\n",
       "    .dataframe thead th {\n",
       "        text-align: right;\n",
       "    }\n",
       "</style>\n",
       "<table border=\"1\" class=\"dataframe\">\n",
       "  <thead>\n",
       "    <tr style=\"text-align: right;\">\n",
       "      <th></th>\n",
       "      <th>Date</th>\n",
       "      <th>Time</th>\n",
       "      <th>Location</th>\n",
       "      <th>Operator</th>\n",
       "      <th>Route</th>\n",
       "      <th>AC Type</th>\n",
       "      <th>Military</th>\n",
       "      <th>Postal_Cargo</th>\n",
       "      <th>Aboard</th>\n",
       "      <th>Aboard Passangers</th>\n",
       "      <th>Aboard Crew</th>\n",
       "      <th>Fatalities</th>\n",
       "      <th>Fatalities Passangers</th>\n",
       "      <th>Fatalities Crew</th>\n",
       "      <th>Ground</th>\n",
       "      <th>Summary</th>\n",
       "    </tr>\n",
       "  </thead>\n",
       "  <tbody>\n",
       "    <tr>\n",
       "      <th>0</th>\n",
       "      <td>9/17/1908</td>\n",
       "      <td>17:18</td>\n",
       "      <td>Fort Myer, Virginia, USA</td>\n",
       "      <td>Military - U.S. Army</td>\n",
       "      <td>Demonstration</td>\n",
       "      <td>Wright Flyer III</td>\n",
       "      <td>Yes</td>\n",
       "      <td>No</td>\n",
       "      <td>2.0</td>\n",
       "      <td>1.0</td>\n",
       "      <td>1.0</td>\n",
       "      <td>1.0</td>\n",
       "      <td>1.0</td>\n",
       "      <td>0.0</td>\n",
       "      <td>0.0</td>\n",
       "      <td>During a demonstration flight, a U.S. Army fly...</td>\n",
       "    </tr>\n",
       "    <tr>\n",
       "      <th>1</th>\n",
       "      <td>09/07/1909</td>\n",
       "      <td>NaN</td>\n",
       "      <td>Juvisy-sur-Orge, France</td>\n",
       "      <td>NaN</td>\n",
       "      <td>Air show</td>\n",
       "      <td>Wright Byplane</td>\n",
       "      <td>No</td>\n",
       "      <td>No</td>\n",
       "      <td>1.0</td>\n",
       "      <td>0.0</td>\n",
       "      <td>1.0</td>\n",
       "      <td>1.0</td>\n",
       "      <td>0.0</td>\n",
       "      <td>0.0</td>\n",
       "      <td>0.0</td>\n",
       "      <td>Eugene Lefebvre was the first pilot to ever be...</td>\n",
       "    </tr>\n",
       "    <tr>\n",
       "      <th>2</th>\n",
       "      <td>07/12/1912</td>\n",
       "      <td>06:30</td>\n",
       "      <td>Atlantic City, New Jersey, USA</td>\n",
       "      <td>Military - U.S. Navy</td>\n",
       "      <td>Test flight</td>\n",
       "      <td>Dirigible</td>\n",
       "      <td>Yes</td>\n",
       "      <td>No</td>\n",
       "      <td>5.0</td>\n",
       "      <td>0.0</td>\n",
       "      <td>5.0</td>\n",
       "      <td>5.0</td>\n",
       "      <td>0.0</td>\n",
       "      <td>5.0</td>\n",
       "      <td>0.0</td>\n",
       "      <td>First U.S. dirigible Akron exploded just offsh...</td>\n",
       "    </tr>\n",
       "    <tr>\n",
       "      <th>3</th>\n",
       "      <td>08/06/1913</td>\n",
       "      <td>NaN</td>\n",
       "      <td>Victoria, British Columbia, Canada</td>\n",
       "      <td>Private</td>\n",
       "      <td>NaN</td>\n",
       "      <td>Curtiss seaplane</td>\n",
       "      <td>No</td>\n",
       "      <td>No</td>\n",
       "      <td>1.0</td>\n",
       "      <td>0.0</td>\n",
       "      <td>1.0</td>\n",
       "      <td>1.0</td>\n",
       "      <td>0.0</td>\n",
       "      <td>1.0</td>\n",
       "      <td>0.0</td>\n",
       "      <td>The first fatal airplane accident in Canada oc...</td>\n",
       "    </tr>\n",
       "    <tr>\n",
       "      <th>4</th>\n",
       "      <td>09/09/1913</td>\n",
       "      <td>18:30</td>\n",
       "      <td>Over the North Sea, North Sea</td>\n",
       "      <td>Military - German Navy</td>\n",
       "      <td>NaN</td>\n",
       "      <td>Zeppelin L-1 (airship)</td>\n",
       "      <td>Yes</td>\n",
       "      <td>No</td>\n",
       "      <td>20.0</td>\n",
       "      <td>NaN</td>\n",
       "      <td>NaN</td>\n",
       "      <td>14.0</td>\n",
       "      <td>NaN</td>\n",
       "      <td>NaN</td>\n",
       "      <td>0.0</td>\n",
       "      <td>The airship flew into a thunderstorm and encou...</td>\n",
       "    </tr>\n",
       "  </tbody>\n",
       "</table>\n",
       "</div>"
      ],
      "text/plain": [
       "         Date   Time                            Location  \\\n",
       "0   9/17/1908  17:18            Fort Myer, Virginia, USA   \n",
       "1  09/07/1909    NaN             Juvisy-sur-Orge, France   \n",
       "2  07/12/1912  06:30      Atlantic City, New Jersey, USA   \n",
       "3  08/06/1913    NaN  Victoria, British Columbia, Canada   \n",
       "4  09/09/1913  18:30       Over the North Sea, North Sea   \n",
       "\n",
       "                 Operator          Route                 AC Type Military  \\\n",
       "0    Military - U.S. Army  Demonstration        Wright Flyer III      Yes   \n",
       "1                     NaN       Air show          Wright Byplane       No   \n",
       "2    Military - U.S. Navy    Test flight               Dirigible      Yes   \n",
       "3                 Private            NaN        Curtiss seaplane       No   \n",
       "4  Military - German Navy            NaN  Zeppelin L-1 (airship)      Yes   \n",
       "\n",
       "  Postal_Cargo  Aboard  Aboard Passangers  Aboard Crew  Fatalities  \\\n",
       "0           No     2.0                1.0          1.0         1.0   \n",
       "1           No     1.0                0.0          1.0         1.0   \n",
       "2           No     5.0                0.0          5.0         5.0   \n",
       "3           No     1.0                0.0          1.0         1.0   \n",
       "4           No    20.0                NaN          NaN        14.0   \n",
       "\n",
       "   Fatalities Passangers  Fatalities Crew  Ground  \\\n",
       "0                    1.0              0.0     0.0   \n",
       "1                    0.0              0.0     0.0   \n",
       "2                    0.0              5.0     0.0   \n",
       "3                    0.0              1.0     0.0   \n",
       "4                    NaN              NaN     0.0   \n",
       "\n",
       "                                             Summary  \n",
       "0  During a demonstration flight, a U.S. Army fly...  \n",
       "1  Eugene Lefebvre was the first pilot to ever be...  \n",
       "2  First U.S. dirigible Akron exploded just offsh...  \n",
       "3  The first fatal airplane accident in Canada oc...  \n",
       "4  The airship flew into a thunderstorm and encou...  "
      ]
     },
     "execution_count": 73,
     "metadata": {},
     "output_type": "execute_result"
    }
   ],
   "source": [
    "dataset.head()"
   ]
  },
  {
   "cell_type": "code",
   "execution_count": 74,
   "metadata": {},
   "outputs": [
    {
     "data": {
      "text/plain": [
       "Date                      object\n",
       "Time                      object\n",
       "Location                  object\n",
       "Operator                  object\n",
       "Route                     object\n",
       "AC Type                   object\n",
       "Military                  object\n",
       "Postal_Cargo              object\n",
       "Aboard                   float64\n",
       "Aboard Passangers        float64\n",
       "Aboard Crew              float64\n",
       "Fatalities               float64\n",
       "Fatalities Passangers    float64\n",
       "Fatalities Crew          float64\n",
       "Ground                   float64\n",
       "Summary                   object\n",
       "dtype: object"
      ]
     },
     "execution_count": 74,
     "metadata": {},
     "output_type": "execute_result"
    }
   ],
   "source": [
    "dataset.dtypes"
   ]
  },
  {
   "cell_type": "markdown",
   "metadata": {},
   "source": [
    "## Nettoyage des données\n",
    "### Valeurs manquantes"
   ]
  },
  {
   "cell_type": "code",
   "execution_count": 75,
   "metadata": {},
   "outputs": [
    {
     "data": {
      "text/plain": [
       "Time                     30.312125\n",
       "Route                    15.566226\n",
       "Fatalities Passangers     4.821929\n",
       "Fatalities Crew           4.801921\n",
       "Aboard Passangers         4.561825\n",
       "Aboard Crew               4.501801\n",
       "Summary                   1.280512\n",
       "Ground                    0.840336\n",
       "Aboard                    0.360144\n",
       "AC Type                   0.300120\n",
       "Operator                  0.200080\n",
       "Fatalities                0.160064\n",
       "Location                  0.100040\n",
       "Date                      0.000000\n",
       "Military                  0.000000\n",
       "Postal_Cargo              0.000000\n",
       "dtype: float64"
      ]
     },
     "execution_count": 75,
     "metadata": {},
     "output_type": "execute_result"
    }
   ],
   "source": [
    "# Pourcentage de valeurs manquantes :\n",
    "dataset.isna().sum().sort_values(ascending=False)/len(dataset)*100"
   ]
  },
  {
   "cell_type": "markdown",
   "metadata": {},
   "source": [
    "### Format des dates (Date, Time)"
   ]
  },
  {
   "cell_type": "code",
   "execution_count": 76,
   "metadata": {},
   "outputs": [
    {
     "name": "stdout",
     "output_type": "stream",
     "text": [
      "<class 'str'>\n",
      "<class 'str'>\n"
     ]
    }
   ],
   "source": [
    "# Les champs Date et Time sont au format string :\n",
    "print(type(dataset.loc[0, 'Date']))\n",
    "print(type(dataset.loc[0, 'Time']))"
   ]
  },
  {
   "cell_type": "code",
   "execution_count": 77,
   "metadata": {},
   "outputs": [],
   "source": [
    "# Ajout des champs datetime et time au format date :\n",
    "from datetime import datetime\n",
    "from datetime import time\n",
    "\n",
    "date_format = '%m/%d/%Y'\n",
    "dataset['datetime'] = dataset['Date'].apply(lambda x: datetime.strptime(x, date_format))\n",
    "\n",
    "dataset['time'] = dataset['Time'].apply(lambda x: 0 if x != x \n",
    "                                            else time(int(x.split(':')[0]), int(x.split(':')[1]), 0))\n",
    "\n",
    "dataset['hour'] = dataset['Time'].apply(lambda x: np.nan if x != x \n",
    "                                            else int(x.split(':')[0]))\n",
    "                                        \n",
    "dataset['month'] = dataset['Date'].apply(lambda x: int(x.split('/')[0]))"
   ]
  },
  {
   "cell_type": "markdown",
   "metadata": {},
   "source": [
    "### Itinéraire (champ Route)"
   ]
  },
  {
   "cell_type": "code",
   "execution_count": 78,
   "metadata": {},
   "outputs": [
    {
     "data": {
      "text/plain": [
       "Route\n",
       "Training                      100\n",
       "Sightseeing                    39\n",
       "Test flight                    33\n",
       "Military exercise               8\n",
       "Sao Paulo - Rio de Janeiro      7\n",
       "Demonstration                   6\n",
       "Rio de Janeiro - Sao Paulo      5\n",
       "Barranquilla - Bogota           4\n",
       "Paris - London                  4\n",
       "Tallinn - Helsinki              4\n",
       "Huambo - Luanda                 4\n",
       "Sao Paulo - Porto Alegre        4\n",
       "Bogota - Barranquilla           4\n",
       "Survey flight                   4\n",
       "Villavicencio - Mitu            4\n",
       "Name: count, dtype: int64"
      ]
     },
     "execution_count": 78,
     "metadata": {},
     "output_type": "execute_result"
    }
   ],
   "source": [
    "dataset['Route'].value_counts().head(15)"
   ]
  },
  {
   "cell_type": "markdown",
   "metadata": {},
   "source": [
    "Certains vols sont directs, d'autres effectuent des arrêts.  \n",
    "\n",
    "Par exemple le vol ci-dessous présente 3 villes dans son itinéraire, il effectue 1 stop à Bishkek."
   ]
  },
  {
   "cell_type": "code",
   "execution_count": 79,
   "metadata": {},
   "outputs": [
    {
     "name": "stdout",
     "output_type": "stream",
     "text": [
      "Hong Kong - Bishkek - Istanbul\n",
      "['Hong Kong ', ' Bishkek ', ' Istanbul']\n",
      "3\n"
     ]
    }
   ],
   "source": [
    "# Exemple (ligne 4927) Ici l'itinéraire comporte 3 villes :\n",
    "print(dataset.loc[4927, 'Route'])\n",
    "print(dataset.loc[4927, 'Route'].split('-'))\n",
    "print(len(dataset.loc[4927, 'Route'].split('-')))"
   ]
  },
  {
   "cell_type": "code",
   "execution_count": 80,
   "metadata": {},
   "outputs": [
    {
     "name": "stdout",
     "output_type": "stream",
     "text": [
      "Vols directs : 3609\n",
      "Vols non-directs : 611\n"
     ]
    }
   ],
   "source": [
    "# Vols non-directs :\n",
    "non_direct = []\n",
    "direct = []\n",
    "\n",
    "for i in range(len(dataset)):\n",
    "    if dataset.loc[i, 'Route'] == dataset.loc[i, 'Route']:\n",
    "        temp = dataset.loc[i, 'Route'].split('-')\n",
    "        if len(temp) > 2 : \n",
    "            non_direct.append(i)\n",
    "        else :\n",
    "            direct.append(i)\n",
    "\n",
    "non_direct # indices des vols non-directs\n",
    "direct # indices des vols directs\n",
    "print('Vols directs :', len(direct)) \n",
    "print('Vols non-directs :', len(non_direct)) # le nombre de vols non-directs"
   ]
  },
  {
   "cell_type": "code",
   "execution_count": 81,
   "metadata": {},
   "outputs": [
    {
     "data": {
      "text/plain": [
       "{1, 2, 3, 4, 5}"
      ]
     },
     "execution_count": 81,
     "metadata": {},
     "output_type": "execute_result"
    }
   ],
   "source": [
    "# Nombre de stops lorsque le vol n'est pas direct :\n",
    "nb_stops = []\n",
    "for index in non_direct:\n",
    "    temp = dataset.loc[index, 'Route'].split('-')\n",
    "    nb_stops.append(len(temp)-2)\n",
    "set(nb_stops)"
   ]
  },
  {
   "cell_type": "markdown",
   "metadata": {},
   "source": [
    "## Enrichissement du dataframe"
   ]
  },
  {
   "cell_type": "markdown",
   "metadata": {},
   "source": [
    "### Origine et destination"
   ]
  },
  {
   "cell_type": "code",
   "execution_count": 82,
   "metadata": {},
   "outputs": [],
   "source": [
    "dataset['origin'] = dataset['Route'].apply(lambda x: x.split('-')[0].strip() if (x == x and len(x.split('-')) > 1) else np.nan)\n",
    "\n",
    "dataset['destination'] = dataset['Route'].apply(lambda x: x.split('-')[-1].strip() if (x == x and len(x.split('-')) > 1) else np.nan)"
   ]
  },
  {
   "cell_type": "markdown",
   "metadata": {},
   "source": [
    "### Vol direct et nombre de stops"
   ]
  },
  {
   "cell_type": "code",
   "execution_count": 83,
   "metadata": {},
   "outputs": [],
   "source": [
    "dataset['straight'] = dataset['Route'].apply(lambda x: 'No' if (x == x and len(x.split('-')) > 2)\n",
    "                                                        else 'Yes' if (x == x and len(x.split('-')) == 2) \n",
    "                                                        else np.nan )\n",
    "                                                        \n",
    "dataset['stops'] = dataset['Route'].apply(lambda x: len(x.split('-')) - 2 if (x == x and len(x.split('-')) >= 2) else np.nan)"
   ]
  },
  {
   "cell_type": "markdown",
   "metadata": {},
   "source": [
    "### Pays où a lieu le crash"
   ]
  },
  {
   "cell_type": "code",
   "execution_count": 84,
   "metadata": {},
   "outputs": [],
   "source": [
    "dataset['country'] = dataset['Location'].apply(lambda x: x.split(',')[-1].strip() if x == x else np.nan)"
   ]
  },
  {
   "cell_type": "code",
   "execution_count": 85,
   "metadata": {},
   "outputs": [
    {
     "data": {
      "text/plain": [
       "country\n",
       "USA                 1035\n",
       "Russia               293\n",
       "Brazil               176\n",
       "Colombia             151\n",
       "Canada               147\n",
       "France               126\n",
       "England              110\n",
       "India                107\n",
       "Indonesia             99\n",
       "China                 95\n",
       "Mexico                89\n",
       "Germany               89\n",
       "Italy                 86\n",
       "Philippines           77\n",
       "Australia             67\n",
       "Vietnam               67\n",
       "Spain                 64\n",
       "Venezuela             55\n",
       "Peru                  55\n",
       "Papua New Guinea      50\n",
       "Name: count, dtype: int64"
      ]
     },
     "execution_count": 85,
     "metadata": {},
     "output_type": "execute_result"
    }
   ],
   "source": [
    "dataset['country'].value_counts().head(20)"
   ]
  },
  {
   "cell_type": "markdown",
   "metadata": {},
   "source": [
    "## Export csv"
   ]
  },
  {
   "cell_type": "code",
   "execution_count": 86,
   "metadata": {},
   "outputs": [],
   "source": [
    "# Sauvegarde des données nettoyées dans un fichier csv :\n",
    "dataset.to_csv('./src/airplane_crashes_clean.csv', index=False)"
   ]
  }
 ],
 "metadata": {
  "kernelspec": {
   "display_name": "eda",
   "language": "python",
   "name": "python3"
  },
  "language_info": {
   "codemirror_mode": {
    "name": "ipython",
    "version": 3
   },
   "file_extension": ".py",
   "mimetype": "text/x-python",
   "name": "python",
   "nbconvert_exporter": "python",
   "pygments_lexer": "ipython3",
   "version": "3.10.13"
  }
 },
 "nbformat": 4,
 "nbformat_minor": 2
}
